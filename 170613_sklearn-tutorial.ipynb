{
 "cells": [
  {
   "cell_type": "markdown",
   "metadata": {},
   "source": [
    "# Scikit-learnの紹介\n",
    "\n",
    "*170613 Masahiro Rikiso*\n",
    "\n",
    "---"
   ]
  },
  {
   "cell_type": "markdown",
   "metadata": {},
   "source": [
    "* [1. データの読み込み](#1.-データの読み込み)\n",
    "* [2. 学習用データの作成](#2.-学習用データの作成)\n",
    "* [3. 機械学習モデルの作成](#3.-機械学習モデルの作成)\n",
    "* [4. モデルの評価](#4.-モデルの評価)\n",
    "* [5. モデルの保存](#5.-モデルの保存)"
   ]
  },
  {
   "cell_type": "code",
   "execution_count": 9,
   "metadata": {
    "collapsed": true
   },
   "outputs": [],
   "source": [
    "%matplotlib inline\n",
    "import numpy as np\n",
    "import matplotlib.pyplot as plt"
   ]
  },
  {
   "cell_type": "markdown",
   "metadata": {},
   "source": [
    "## 1. データの読み込み\n",
    "\n",
    "`sklearn.datasets` パッケージの中に、サンプルデータが色々あります。\n",
    "\n",
    "`load_???()` で読み込めます。"
   ]
  },
  {
   "cell_type": "code",
   "execution_count": 10,
   "metadata": {
    "collapsed": true
   },
   "outputs": [],
   "source": [
    "from sklearn.datasets import load_digits"
   ]
  },
  {
   "cell_type": "code",
   "execution_count": 11,
   "metadata": {
    "collapsed": true
   },
   "outputs": [],
   "source": [
    "digits = load_digits()"
   ]
  },
  {
   "cell_type": "code",
   "execution_count": 20,
   "metadata": {},
   "outputs": [
    {
     "data": {
      "text/plain": [
       "(1797, 64)"
      ]
     },
     "execution_count": 20,
     "metadata": {},
     "output_type": "execute_result"
    }
   ],
   "source": [
    "digits.data.shape"
   ]
  },
  {
   "cell_type": "code",
   "execution_count": 5,
   "metadata": {
    "scrolled": true
   },
   "outputs": [
    {
     "data": {
      "text/plain": [
       "(1797, 8, 8)"
      ]
     },
     "execution_count": 5,
     "metadata": {},
     "output_type": "execute_result"
    }
   ],
   "source": [
    "digits.images.shape"
   ]
  },
  {
   "cell_type": "code",
   "execution_count": 24,
   "metadata": {},
   "outputs": [
    {
     "data": {
      "image/png": "[encoded data removed]",
      "text/plain": [
       "<matplotlib.figure.Figure at 0x11257ecd0>"
      ]
     },
     "metadata": {},
     "output_type": "display_data"
    }
   ],
   "source": [
    "fig, axes = plt.subplots(ncols=10, figsize=(12,12))\n",
    "\n",
    "for i in range(10):\n",
    "    ax = axes[i]\n",
    "    ax.imshow(digits.images[i], cmap='gray')\n",
    "    ax.set_axis_off()"
   ]
  },
  {
   "cell_type": "markdown",
   "metadata": {},
   "source": [
    "## 2. 学習用データの作成\n",
    "\n",
    "train-test-splitをします。\n",
    "\n",
    "ハイパーパラメータチューニングもやるときは、\n",
    "\n",
    "train-validation-test-splitをします。\n",
    "\n",
    "今回は、パラメータはデフォルト値を使うことにするので、\n",
    "\n",
    "train-test-splitでいいです。"
   ]
  },
  {
   "cell_type": "code",
   "execution_count": 25,
   "metadata": {
    "collapsed": true
   },
   "outputs": [],
   "source": [
    "from sklearn.model_selection import train_test_split"
   ]
  },
  {
   "cell_type": "code",
   "execution_count": 10,
   "metadata": {},
   "outputs": [
    {
     "data": {
      "text/plain": [
       "((1797, 64), (1797,))"
      ]
     },
     "execution_count": 10,
     "metadata": {},
     "output_type": "execute_result"
    }
   ],
   "source": [
    "digits.data.shape, digits.target.shape"
   ]
  },
  {
   "cell_type": "code",
   "execution_count": 26,
   "metadata": {
    "collapsed": true
   },
   "outputs": [],
   "source": [
    "# test_sizeでtestデータとして分けておく割合を指定します。\n",
    "# 今回は = 0.2にしました。　train:test = 8:2で分けることになります\n",
    "X_train, X_test, y_train, y_test = train_test_split(digits.data, digits.target, test_size=0.2)"
   ]
  },
  {
   "cell_type": "code",
   "execution_count": 27,
   "metadata": {},
   "outputs": [
    {
     "data": {
      "text/plain": [
       "((1437, 64), (360, 64), (1437,), (360,))"
      ]
     },
     "execution_count": 27,
     "metadata": {},
     "output_type": "execute_result"
    }
   ],
   "source": [
    "X_train.shape, X_test.shape, y_train.shape, y_test.shape"
   ]
  },
  {
   "cell_type": "markdown",
   "metadata": {},
   "source": [
    "## 3. 機械学習モデルの作成\n",
    "\n",
    "SVMもDTもRFも(shallow)NNも以下の同じような手順で機械学習できます。\n",
    "\n",
    "1. モデルインスタンスの作成\n",
    "2. 学習： `model.fit()`\n",
    "3. 予測： `model.predict()`"
   ]
  },
  {
   "cell_type": "markdown",
   "metadata": {},
   "source": [
    "#### decision tree でお試ししてみます"
   ]
  },
  {
   "cell_type": "code",
   "execution_count": 48,
   "metadata": {
    "collapsed": true
   },
   "outputs": [],
   "source": [
    "from sklearn.svm import SVC"
   ]
  },
  {
   "cell_type": "code",
   "execution_count": 49,
   "metadata": {
    "collapsed": true
   },
   "outputs": [],
   "source": [
    "clf = SVC()"
   ]
  },
  {
   "cell_type": "code",
   "execution_count": 39,
   "metadata": {
    "collapsed": true
   },
   "outputs": [],
   "source": [
    "from sklearn.tree import DecisionTreeClassifier"
   ]
  },
  {
   "cell_type": "code",
   "execution_count": 40,
   "metadata": {
    "collapsed": true
   },
   "outputs": [],
   "source": [
    "# 1. モデルインスタンスの作成\n",
    "clf = DecisionTreeClassifier()"
   ]
  },
  {
   "cell_type": "code",
   "execution_count": 50,
   "metadata": {},
   "outputs": [
    {
     "data": {
      "text/plain": [
       "SVC(C=1.0, cache_size=200, class_weight=None, coef0=0.0,\n",
       "  decision_function_shape=None, degree=3, gamma='auto', kernel='rbf',\n",
       "  max_iter=-1, probability=False, random_state=None, shrinking=True,\n",
       "  tol=0.001, verbose=False)"
      ]
     },
     "execution_count": 50,
     "metadata": {},
     "output_type": "execute_result"
    }
   ],
   "source": [
    "# 2. 学習\n",
    "clf.fit(X_train, y_train)"
   ]
  },
  {
   "cell_type": "code",
   "execution_count": 51,
   "metadata": {
    "collapsed": true
   },
   "outputs": [],
   "source": [
    "# 3. 予測\n",
    "pred = clf.predict(X_test)"
   ]
  },
  {
   "cell_type": "code",
   "execution_count": 52,
   "metadata": {},
   "outputs": [
    {
     "data": {
      "text/plain": [
       "array([4, 9, 9, 9, 9, 1, 9, 0, 1, 9, 0, 9, 9, 9, 9, 9, 9, 9, 4, 6, 0, 2, 9,\n",
       "       9, 2, 9, 9, 9, 4, 9, 6, 2, 9, 9, 1, 4, 2, 2, 6, 9, 2, 4, 6, 5, 9, 9,\n",
       "       4, 9, 0, 7, 9, 9, 9, 6, 9, 9, 6, 2, 9, 1, 9, 9, 9, 6, 9, 8, 9, 1, 9,\n",
       "       9, 9, 6, 9, 8, 9, 9, 3, 6, 6, 9, 9, 6, 9, 9, 8, 6, 9, 9, 9, 9, 9, 9,\n",
       "       9, 1, 9, 9, 1, 6, 9, 4, 9, 9, 0, 9, 9, 9, 3, 2, 2, 9, 9, 2, 4, 9, 9,\n",
       "       9, 9, 2, 9, 5, 4, 9, 9, 9, 0, 9, 9, 9, 9, 9, 4, 7, 0, 3, 9, 9, 9, 9,\n",
       "       9, 3, 9, 9, 7, 9, 9, 9, 0, 9, 4, 9, 9, 9, 9, 9, 2, 7, 7, 9, 5, 9, 7,\n",
       "       9, 9, 9, 9, 9, 9, 9, 0, 9, 9, 9, 9, 9, 9, 3, 6, 3, 9, 4, 9, 9, 0, 9,\n",
       "       9, 9, 9, 9, 9, 0, 9, 9, 9, 3, 3, 9, 9, 9, 9, 9, 9, 1, 9, 9, 9, 9, 9,\n",
       "       9, 9, 9, 9, 9, 9, 6, 9, 1, 9, 9, 6, 9, 9, 9, 9, 7, 1, 9, 9, 4, 9, 1,\n",
       "       1, 9, 9, 9, 7, 9, 9, 9, 9, 0, 9, 9, 9, 9, 0, 0, 3, 1, 9, 6, 9, 9, 9,\n",
       "       5, 9, 9, 6, 9, 9, 4, 9, 9, 1, 9, 1, 1, 9, 9, 4, 4, 9, 9, 6, 9, 9, 7,\n",
       "       9, 9, 9, 9, 9, 9, 0, 9, 9, 9, 3, 9, 9, 9, 9, 3, 9, 9, 0, 7, 9, 9, 9,\n",
       "       3, 2, 0, 9, 4, 5, 9, 9, 9, 6, 5, 9, 4, 6, 9, 9, 9, 3, 0, 6, 7, 6, 9,\n",
       "       9, 9, 6, 9, 9, 9, 9, 9, 9, 9, 9, 0, 9, 9, 1, 0, 9, 4, 8, 3, 6, 9, 1,\n",
       "       9, 9, 9, 6, 9, 0, 3, 5, 9, 3, 1, 0, 9, 9, 9])"
      ]
     },
     "execution_count": 52,
     "metadata": {},
     "output_type": "execute_result"
    }
   ],
   "source": [
    "pred"
   ]
  },
  {
   "cell_type": "code",
   "execution_count": 53,
   "metadata": {},
   "outputs": [
    {
     "data": {
      "text/plain": [
       "array([4, 8, 4, 0, 8, 1, 3, 0, 1, 8, 0, 9, 2, 5, 7, 1, 6, 1, 4, 6, 0, 2, 9,\n",
       "       5, 2, 1, 5, 0, 4, 5, 6, 2, 5, 2, 1, 4, 2, 2, 6, 7, 2, 4, 6, 5, 4, 5,\n",
       "       4, 4, 0, 7, 5, 1, 5, 6, 6, 8, 6, 2, 5, 1, 7, 3, 5, 6, 6, 8, 8, 1, 2,\n",
       "       4, 9, 6, 9, 8, 2, 3, 3, 6, 6, 1, 4, 6, 5, 5, 8, 6, 6, 2, 4, 7, 1, 5,\n",
       "       5, 1, 0, 7, 1, 6, 9, 4, 2, 1, 0, 9, 5, 8, 3, 2, 2, 5, 9, 2, 4, 3, 7,\n",
       "       3, 0, 2, 8, 5, 4, 3, 7, 6, 0, 8, 3, 3, 2, 0, 4, 7, 0, 3, 2, 3, 0, 5,\n",
       "       5, 3, 9, 9, 7, 7, 4, 4, 0, 3, 4, 5, 0, 8, 1, 9, 2, 7, 7, 3, 5, 5, 7,\n",
       "       7, 7, 6, 9, 9, 9, 7, 0, 5, 1, 3, 9, 8, 7, 3, 6, 3, 7, 4, 9, 1, 0, 0,\n",
       "       9, 8, 4, 1, 1, 0, 5, 9, 2, 3, 3, 5, 8, 3, 1, 8, 1, 1, 5, 3, 2, 2, 2,\n",
       "       2, 4, 3, 9, 4, 2, 6, 8, 1, 1, 2, 6, 3, 7, 5, 4, 7, 1, 6, 8, 4, 5, 1,\n",
       "       1, 9, 5, 9, 7, 0, 8, 2, 7, 0, 0, 4, 8, 5, 0, 0, 3, 1, 9, 6, 5, 5, 1,\n",
       "       5, 5, 0, 6, 4, 1, 4, 7, 9, 1, 2, 1, 1, 7, 8, 4, 4, 7, 8, 6, 2, 8, 7,\n",
       "       6, 2, 3, 8, 8, 1, 0, 9, 9, 9, 3, 8, 6, 4, 5, 3, 2, 3, 0, 7, 2, 2, 0,\n",
       "       3, 2, 0, 1, 4, 5, 7, 6, 7, 6, 5, 5, 4, 6, 8, 6, 4, 3, 0, 6, 7, 6, 7,\n",
       "       3, 1, 6, 8, 9, 9, 8, 2, 5, 2, 8, 0, 6, 5, 1, 0, 4, 4, 8, 3, 6, 5, 1,\n",
       "       7, 6, 4, 6, 8, 0, 3, 5, 9, 3, 1, 0, 7, 5, 9])"
      ]
     },
     "execution_count": 53,
     "metadata": {},
     "output_type": "execute_result"
    }
   ],
   "source": [
    "y_test"
   ]
  },
  {
   "cell_type": "code",
   "execution_count": 54,
   "metadata": {},
   "outputs": [
    {
     "data": {
      "text/plain": [
       "((360,), (360,))"
      ]
     },
     "execution_count": 54,
     "metadata": {},
     "output_type": "execute_result"
    }
   ],
   "source": [
    "pred.shape , y_test.shape"
   ]
  },
  {
   "cell_type": "markdown",
   "metadata": {},
   "source": [
    "## 4. モデルの評価\n",
    "\n",
    "`accuracy_score()`っていう便利な関数を使えば、正答率が評価できます。"
   ]
  },
  {
   "cell_type": "code",
   "execution_count": 55,
   "metadata": {
    "collapsed": true
   },
   "outputs": [],
   "source": [
    "from sklearn.metrics import accuracy_score"
   ]
  },
  {
   "cell_type": "code",
   "execution_count": 56,
   "metadata": {},
   "outputs": [
    {
     "data": {
      "text/plain": [
       "0.46111111111111114"
      ]
     },
     "execution_count": 56,
     "metadata": {},
     "output_type": "execute_result"
    }
   ],
   "source": [
    "accuracy_score(y_test, pred)"
   ]
  },
  {
   "cell_type": "markdown",
   "metadata": {},
   "source": [
    "#### ちなみに\n",
    "\n",
    "愚直にやってもできます。"
   ]
  },
  {
   "cell_type": "code",
   "execution_count": 58,
   "metadata": {},
   "outputs": [
    {
     "data": {
      "text/plain": [
       "array([ True, False, False, False, False,  True, False,  True,  True,\n",
       "       False,  True,  True, False, False, False, False, False, False,\n",
       "        True,  True,  True,  True,  True, False,  True, False, False,\n",
       "       False,  True, False,  True,  True, False, False,  True,  True,\n",
       "        True,  True,  True, False,  True,  True,  True,  True, False,\n",
       "       False,  True, False,  True,  True, False, False, False,  True,\n",
       "       False, False,  True,  True, False,  True, False, False, False,\n",
       "        True, False,  True, False,  True, False, False,  True,  True,\n",
       "        True,  True, False, False,  True,  True,  True, False, False,\n",
       "        True, False, False,  True,  True, False, False, False, False,\n",
       "       False, False, False,  True, False, False,  True,  True,  True,\n",
       "        True, False, False,  True,  True, False, False,  True,  True,\n",
       "        True, False,  True,  True,  True, False, False, False, False,\n",
       "        True, False,  True,  True, False, False, False,  True, False,\n",
       "       False, False, False, False,  True,  True,  True,  True, False,\n",
       "       False, False, False, False,  True,  True,  True,  True, False,\n",
       "       False, False,  True, False,  True, False, False, False, False,\n",
       "        True,  True,  True,  True, False,  True, False,  True, False,\n",
       "       False, False,  True,  True,  True, False,  True, False, False,\n",
       "       False,  True, False, False,  True,  True,  True, False,  True,\n",
       "        True, False,  True, False,  True, False, False, False, False,\n",
       "        True, False,  True, False,  True,  True, False, False, False,\n",
       "       False, False, False,  True, False, False, False, False, False,\n",
       "       False, False, False,  True, False, False,  True, False,  True,\n",
       "       False, False,  True, False, False, False, False,  True,  True,\n",
       "       False, False,  True, False,  True,  True,  True, False,  True,\n",
       "        True, False, False, False, False,  True, False, False, False,\n",
       "       False,  True,  True,  True,  True,  True,  True, False, False,\n",
       "       False,  True, False, False,  True, False, False,  True, False,\n",
       "        True,  True, False,  True,  True, False, False,  True,  True,\n",
       "       False, False,  True, False, False,  True, False, False, False,\n",
       "       False, False, False,  True,  True,  True,  True,  True, False,\n",
       "       False, False, False,  True, False, False,  True,  True, False,\n",
       "       False, False,  True,  True,  True, False,  True,  True, False,\n",
       "       False, False,  True,  True, False,  True,  True, False, False,\n",
       "       False,  True,  True,  True,  True,  True, False, False, False,\n",
       "        True, False,  True,  True, False, False, False, False, False,\n",
       "        True, False, False,  True,  True, False,  True,  True,  True,\n",
       "        True, False,  True, False, False, False,  True, False,  True,\n",
       "        True,  True,  True,  True,  True,  True, False, False,  True], dtype=bool)"
      ]
     },
     "execution_count": 58,
     "metadata": {},
     "output_type": "execute_result"
    }
   ],
   "source": [
    "is_equal = np.equal(pred, y_test)\n",
    "is_equal"
   ]
  },
  {
   "cell_type": "code",
   "execution_count": 59,
   "metadata": {},
   "outputs": [
    {
     "data": {
      "text/plain": [
       "array([ 1.,  0.,  0.,  0.,  0.,  1.,  0.,  1.,  1.,  0.,  1.,  1.,  0.,\n",
       "        0.,  0.,  0.,  0.,  0.,  1.,  1.,  1.,  1.,  1.,  0.,  1.,  0.,\n",
       "        0.,  0.,  1.,  0.,  1.,  1.,  0.,  0.,  1.,  1.,  1.,  1.,  1.,\n",
       "        0.,  1.,  1.,  1.,  1.,  0.,  0.,  1.,  0.,  1.,  1.,  0.,  0.,\n",
       "        0.,  1.,  0.,  0.,  1.,  1.,  0.,  1.,  0.,  0.,  0.,  1.,  0.,\n",
       "        1.,  0.,  1.,  0.,  0.,  1.,  1.,  1.,  1.,  0.,  0.,  1.,  1.,\n",
       "        1.,  0.,  0.,  1.,  0.,  0.,  1.,  1.,  0.,  0.,  0.,  0.,  0.,\n",
       "        0.,  0.,  1.,  0.,  0.,  1.,  1.,  1.,  1.,  0.,  0.,  1.,  1.,\n",
       "        0.,  0.,  1.,  1.,  1.,  0.,  1.,  1.,  1.,  0.,  0.,  0.,  0.,\n",
       "        1.,  0.,  1.,  1.,  0.,  0.,  0.,  1.,  0.,  0.,  0.,  0.,  0.,\n",
       "        1.,  1.,  1.,  1.,  0.,  0.,  0.,  0.,  0.,  1.,  1.,  1.,  1.,\n",
       "        0.,  0.,  0.,  1.,  0.,  1.,  0.,  0.,  0.,  0.,  1.,  1.,  1.,\n",
       "        1.,  0.,  1.,  0.,  1.,  0.,  0.,  0.,  1.,  1.,  1.,  0.,  1.,\n",
       "        0.,  0.,  0.,  1.,  0.,  0.,  1.,  1.,  1.,  0.,  1.,  1.,  0.,\n",
       "        1.,  0.,  1.,  0.,  0.,  0.,  0.,  1.,  0.,  1.,  0.,  1.,  1.,\n",
       "        0.,  0.,  0.,  0.,  0.,  0.,  1.,  0.,  0.,  0.,  0.,  0.,  0.,\n",
       "        0.,  0.,  1.,  0.,  0.,  1.,  0.,  1.,  0.,  0.,  1.,  0.,  0.,\n",
       "        0.,  0.,  1.,  1.,  0.,  0.,  1.,  0.,  1.,  1.,  1.,  0.,  1.,\n",
       "        1.,  0.,  0.,  0.,  0.,  1.,  0.,  0.,  0.,  0.,  1.,  1.,  1.,\n",
       "        1.,  1.,  1.,  0.,  0.,  0.,  1.,  0.,  0.,  1.,  0.,  0.,  1.,\n",
       "        0.,  1.,  1.,  0.,  1.,  1.,  0.,  0.,  1.,  1.,  0.,  0.,  1.,\n",
       "        0.,  0.,  1.,  0.,  0.,  0.,  0.,  0.,  0.,  1.,  1.,  1.,  1.,\n",
       "        1.,  0.,  0.,  0.,  0.,  1.,  0.,  0.,  1.,  1.,  0.,  0.,  0.,\n",
       "        1.,  1.,  1.,  0.,  1.,  1.,  0.,  0.,  0.,  1.,  1.,  0.,  1.,\n",
       "        1.,  0.,  0.,  0.,  1.,  1.,  1.,  1.,  1.,  0.,  0.,  0.,  1.,\n",
       "        0.,  1.,  1.,  0.,  0.,  0.,  0.,  0.,  1.,  0.,  0.,  1.,  1.,\n",
       "        0.,  1.,  1.,  1.,  1.,  0.,  1.,  0.,  0.,  0.,  1.,  0.,  1.,\n",
       "        1.,  1.,  1.,  1.,  1.,  1.,  0.,  0.,  1.])"
      ]
     },
     "execution_count": 59,
     "metadata": {},
     "output_type": "execute_result"
    }
   ],
   "source": [
    "is_equal = is_equal.astype('float')\n",
    "is_equal"
   ]
  },
  {
   "cell_type": "code",
   "execution_count": 60,
   "metadata": {},
   "outputs": [
    {
     "data": {
      "text/plain": [
       "0.46111111111111114"
      ]
     },
     "execution_count": 60,
     "metadata": {},
     "output_type": "execute_result"
    }
   ],
   "source": [
    "np.mean(is_equal)"
   ]
  },
  {
   "cell_type": "markdown",
   "metadata": {},
   "source": [
    "## 5. モデルの保存"
   ]
  },
  {
   "cell_type": "markdown",
   "metadata": {},
   "source": [
    "joblibを使います。`model.pkl`という名前で保存します。"
   ]
  },
  {
   "cell_type": "code",
   "execution_count": 62,
   "metadata": {},
   "outputs": [
    {
     "data": {
      "text/plain": [
       "['svm.model']"
      ]
     },
     "execution_count": 62,
     "metadata": {},
     "output_type": "execute_result"
    }
   ],
   "source": [
    "from sklearn.externals import joblib\n",
    "joblib.dump(clf, 'svm.model')"
   ]
  },
  {
   "cell_type": "markdown",
   "metadata": {},
   "source": [
    "別ファイルから読み込みたいときは、以下の2行で読み込めます"
   ]
  },
  {
   "cell_type": "code",
   "execution_count": 25,
   "metadata": {
    "collapsed": true
   },
   "outputs": [],
   "source": [
    "from sklearn.externals import joblib\n",
    "clf = joblib.load('model.pkl') \n",
    "\n",
    "#pred = clf.predict(new_data)"
   ]
  },
  {
   "cell_type": "markdown",
   "metadata": {},
   "source": [
    "モデルにディープニューラルネットを使って、同じようにモデルを学習&保存して作ったのが[こんなアプリ](http://ec2-52-10-25-30.us-west-2.compute.amazonaws.com)です。詳細はまた紹介します。"
   ]
  }
 ],
 "metadata": {
  "kernelspec": {
   "display_name": "Python 2",
   "language": "python",
   "name": "python2"
  },
  "language_info": {
   "codemirror_mode": {
    "name": "ipython",
    "version": 2
   },
   "file_extension": ".py",
   "mimetype": "text/x-python",
   "name": "python",
   "nbconvert_exporter": "python",
   "pygments_lexer": "ipython2",
   "version": "2.7.13"
  }
 },
 "nbformat": 4,
 "nbformat_minor": 2
}
